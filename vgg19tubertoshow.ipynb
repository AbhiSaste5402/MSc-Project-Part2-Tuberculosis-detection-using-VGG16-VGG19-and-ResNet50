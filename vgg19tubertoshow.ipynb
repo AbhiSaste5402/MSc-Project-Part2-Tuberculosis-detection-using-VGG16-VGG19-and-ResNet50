{
  "cells": [
    {
      "cell_type": "code",
      "execution_count": null,
      "metadata": {
        "id": "oVE7d-9fSxIr"
      },
      "outputs": [],
      "source": [
        "from __future__ import print_function\n",
        "\n",
        "import numpy as np\n",
        "import warnings\n",
        "\n",
        "from keras.models import Model\n",
        "from keras.layers import Flatten, Dense, Input, Conv2D, MaxPooling2D, GlobalMaxPooling2D, GlobalAveragePooling2D\n",
        "from keras.preprocessing import image\n",
        "from keras.utils import layer_utils\n",
        "from keras.utils.data_utils import get_file\n",
        "from keras import backend as k\n",
        "from keras.applications.imagenet_utils import decode_predictions\n",
        "from keras.applications.imagenet_utils import preprocess_input\n",
        "from keras.applications.imagenet_utils import obtain_input_shape"
      ]
    },
    {
      "cell_type": "code",
      "execution_count": null,
      "metadata": {
        "colab": {
          "base_uri": "https://localhost:8080/"
        },
        "id": "lW786Pa4S0SW",
        "outputId": "d79707c7-d7cd-47b1-b22a-e008027b4b2b"
      },
      "outputs": [
        {
          "name": "stdout",
          "output_type": "stream",
          "text": [
            "Looking in indexes: https://pypi.org/simple, https://us-python.pkg.dev/colab-wheels/public/simple/\n",
            "Requirement already satisfied: keras in /usr/local/lib/python3.7/dist-packages (2.8.0)\n"
          ]
        }
      ],
      "source": [
        "import tensorflow as tf\n",
        "tf.__version__\n",
        "\n",
        "!sudo pip3 install keras"
      ]
    },
    {
      "cell_type": "code",
      "execution_count": null,
      "metadata": {
        "id": "BXeiQBIoS0Uj"
      },
      "outputs": [],
      "source": [
        "from google.colab import drive\n",
        "drive.mount('/content/drive')"
      ]
    },
    {
      "cell_type": "code",
      "execution_count": null,
      "metadata": {
        "id": "7gpHmDjdS0W7"
      },
      "outputs": [],
      "source": [
        "from tensorflow.keras.layers import Layer, InputSpec"
      ]
    },
    {
      "cell_type": "code",
      "execution_count": null,
      "metadata": {
        "id": "euVs2qaeS0ZJ"
      },
      "outputs": [],
      "source": [
        "def VGGupdated(input_tensor=None, classes=2): \n",
        "    \n",
        "    img_rows, img_cols = 224,224\n",
        "    img_channels = 3 #we are going to work on coloured images\n",
        "    \n",
        "    img_dim = (img_rows, img_cols, img_channels) \n",
        "    \n",
        "    img_input = Input(shape = img_dim) #input from user we want is tis\n",
        "    \n",
        "    \n",
        "    #block1\n",
        "    x = Conv2D(64, (3,3), activation='relu', padding='same', name='block1_conv1')(img_input) #64 filters of 3x3,padding same as we want size of output image ame as input image\n",
        "    x = Conv2D(64, (3,3), activation='relu', padding='same', name='block1_conv2')(x)#relu will replace all the negative values with 0\n",
        "    x = MaxPooling2D((2,2), strides=(2,2), name='block1_pool')(x) #pooling to reduce the image size, strides the window size for scanning\n",
        "    \n",
        "    #block2\n",
        "    x = Conv2D(128, (3,3), activation='relu', padding='same', name='block2_conv1')(x)\n",
        "    x = Conv2D(128, (3,3), activation='relu', padding='same', name='block2_conv2')(x)\n",
        "    x = MaxPooling2D((2,2), strides=(2,2), name='block2_pool')(x) \n",
        "    \n",
        "    #block3\n",
        "    x = Conv2D(256, (3,3), activation='relu', padding='same', name='block3_conv1')(x)\n",
        "    x = Conv2D(256, (3,3), activation='relu', padding='same', name='block3_conv2')(x)\n",
        "    x = Conv2D(256, (3,3), activation='relu', padding='same', name='block3_conv3')(x)\n",
        "    x = Conv2D(256, (3,3), activation='relu', padding='same', name='block3_conv3')(x)\n",
        "    x = MaxPooling2D((2,2), strides=(2,2), name='block3_pool')(x)\n",
        "    \n",
        "    #block4\n",
        "    x = Conv2D(512, (3,3), activation='relu', padding='same', name='block4_conv1')(x)\n",
        "    x = Conv2D(512, (3,3), activation='relu', padding='same', name='block4_conv2')(x)\n",
        "    x = Conv2D(512, (3,3), activation='relu', padding='same', name='block4_conv3')(x)\n",
        "    x = Conv2D(512, (3,3), activation='relu', padding='same', name='block4_conv4')(x)\n",
        "    x = MaxPooling2D((2,2), strides=(2,2), name='block4_pool')(x)\n",
        "    \n",
        "    #block5\n",
        "    x = Conv2D(512, (3,3), activation='relu', padding='same', name='block5_conv1')(x)\n",
        "    x = Conv2D(512, (3,3), activation='relu', padding='same', name='block5_conv2')(x)\n",
        "    x = Conv2D(512, (3,3), activation='relu', padding='same', name='block5_conv3')(x)\n",
        "    x = Conv2D(512, (3,3), activation='relu', padding='same', name='block5_conv4')(x)\n",
        "    x = MaxPooling2D((2,2), strides=(2,2), name='block5_pool')(x)\n",
        "    \n",
        "    #classification block\n",
        "    x = Flatten(name='flatten')(x) #when we need to classify image we ned to flaten it\n",
        "    x = Dense(4096, activation='relu', name='fc1')(x) #4096 nurons\n",
        "    x = Dense(4096, activation='relu', name='fc2')(x)\n",
        "    x = Dense(classes, activation='sigmoid', name='predictions')(x)\n",
        "    \n",
        "    \n",
        "    #create model\n",
        "    model = Model(inputs = img_input, outputs = x, name='vggtuber')\n",
        "    \n",
        "    return model"
      ]
    },
    {
      "cell_type": "code",
      "execution_count": null,
      "metadata": {
        "id": "TJ-Ikz_GS0bj"
      },
      "outputs": [],
      "source": [
        "model = VGGupdated(classes = 2) # normal and tuberculosis"
      ]
    },
    {
      "cell_type": "code",
      "execution_count": null,
      "metadata": {
        "colab": {
          "base_uri": "https://localhost:8080/"
        },
        "id": "4nSqzw9vS0d8",
        "outputId": "d1b1bb25-5c3c-4fa4-c009-723a148fc738"
      },
      "outputs": [
        {
          "name": "stdout",
          "output_type": "stream",
          "text": [
            "Model: \"vggtuber\"\n",
            "_________________________________________________________________\n",
            " Layer (type)                Output Shape              Param #   \n",
            "=================================================================\n",
            " input_1 (InputLayer)        [(None, 224, 224, 3)]     0         \n",
            "                                                                 \n",
            " block1_conv1 (Conv2D)       (None, 224, 224, 64)      1792      \n",
            "                                                                 \n",
            " block1_conv2 (Conv2D)       (None, 224, 224, 64)      36928     \n",
            "                                                                 \n",
            " block1_pool (MaxPooling2D)  (None, 112, 112, 64)      0         \n",
            "                                                                 \n",
            " block2_conv1 (Conv2D)       (None, 112, 112, 128)     73856     \n",
            "                                                                 \n",
            " block2_conv2 (Conv2D)       (None, 112, 112, 128)     147584    \n",
            "                                                                 \n",
            " block2_pool (MaxPooling2D)  (None, 56, 56, 128)       0         \n",
            "                                                                 \n",
            " block3_conv1 (Conv2D)       (None, 56, 56, 256)       295168    \n",
            "                                                                 \n",
            " block3_conv2 (Conv2D)       (None, 56, 56, 256)       590080    \n",
            "                                                                 \n",
            " block3_pool (MaxPooling2D)  (None, 28, 28, 256)       0         \n",
            "                                                                 \n",
            " block4_conv1 (Conv2D)       (None, 28, 28, 512)       1180160   \n",
            "                                                                 \n",
            " block4_conv2 (Conv2D)       (None, 28, 28, 512)       2359808   \n",
            "                                                                 \n",
            " block4_conv3 (Conv2D)       (None, 28, 28, 512)       2359808   \n",
            "                                                                 \n",
            " block4_conv4 (Conv2D)       (None, 28, 28, 512)       2359808   \n",
            "                                                                 \n",
            " block4_pool (MaxPooling2D)  (None, 14, 14, 512)       0         \n",
            "                                                                 \n",
            " block5_conv1 (Conv2D)       (None, 14, 14, 512)       2359808   \n",
            "                                                                 \n",
            " block5_conv2 (Conv2D)       (None, 14, 14, 512)       2359808   \n",
            "                                                                 \n",
            " block5_conv3 (Conv2D)       (None, 14, 14, 512)       2359808   \n",
            "                                                                 \n",
            " block5_conv4 (Conv2D)       (None, 14, 14, 512)       2359808   \n",
            "                                                                 \n",
            " block5_pool (MaxPooling2D)  (None, 7, 7, 512)         0         \n",
            "                                                                 \n",
            " flatten (Flatten)           (None, 25088)             0         \n",
            "                                                                 \n",
            " fc1 (Dense)                 (None, 4096)              102764544 \n",
            "                                                                 \n",
            " fc2 (Dense)                 (None, 4096)              16781312  \n",
            "                                                                 \n",
            " predictions (Dense)         (None, 2)                 8194      \n",
            "                                                                 \n",
            "=================================================================\n",
            "Total params: 138,398,274\n",
            "Trainable params: 138,398,274\n",
            "Non-trainable params: 0\n",
            "_________________________________________________________________\n"
          ]
        }
      ],
      "source": [
        "model.summary()"
      ]
    },
    {
      "cell_type": "code",
      "execution_count": null,
      "metadata": {
        "id": "qp992bUoS0gH"
      },
      "outputs": [],
      "source": [
        "model.compile(\n",
        "  loss='SparseCategoricalCrossentropy',\n",
        "  optimizer='adam',\n",
        "  metrics=['accuracy']\n",
        ")"
      ]
    },
    {
      "cell_type": "code",
      "execution_count": null,
      "metadata": {
        "colab": {
          "base_uri": "https://localhost:8080/"
        },
        "id": "QeTSpitRS0ig",
        "outputId": "3e0c8ec2-61b7-4d56-f041-d7722e7c0ef9"
      },
      "outputs": [
        {
          "name": "stdout",
          "output_type": "stream",
          "text": [
            "['Tuberculosis', 'Normal']\n",
            "types of xray found: 2\n"
          ]
        }
      ],
      "source": [
        "import numpy as np \n",
        "import pandas as pd\n",
        "import matplotlib.pyplot as plt\n",
        "import os\n",
        "\n",
        "dataset_path = os.listdir('/content/drive/MyDrive/tuber_images') #will give the list of folders in the tuber_images\n",
        "\n",
        "x_ray_types = os.listdir('/content/drive/MyDrive/tuber_images')\n",
        "print(x_ray_types)# what types of xray are there in dataset\n",
        "\n",
        "print(\"types of xray found:\", len(dataset_path))"
      ]
    },
    {
      "cell_type": "code",
      "execution_count": null,
      "metadata": {
        "colab": {
          "base_uri": "https://localhost:8080/"
        },
        "id": "t5HFLREgS0lA",
        "outputId": "ab120b2c-ddbc-41e4-f4e8-240a91058ebf"
      },
      "outputs": [
        {
          "name": "stderr",
          "output_type": "stream",
          "text": [
            "IOPub data rate exceeded.\n",
            "The notebook server will temporarily stop sending output\n",
            "to the client in order to avoid crashing it.\n",
            "To change this limit, set the config variable\n",
            "`--NotebookApp.iopub_data_rate_limit`.\n",
            "\n",
            "Current values:\n",
            "NotebookApp.iopub_data_rate_limit=1000000.0 (bytes/sec)\n",
            "NotebookApp.rate_limit_window=3.0 (secs)\n",
            "\n"
          ]
        }
      ],
      "source": [
        "rays = []\n",
        "\n",
        "for item in x_ray_types:\n",
        "    all_rays = os.listdir('/content/drive/MyDrive/tuber_images' + '/' + item)\n",
        "    \n",
        "    \n",
        "    for ray in all_rays:\n",
        "        rays.append((item, str('/content/drive/MyDrive/tuber_images' + '/' + item) + '/' + ray))\n",
        "        print(rays)"
      ]
    },
    {
      "cell_type": "code",
      "execution_count": null,
      "metadata": {
        "colab": {
          "base_uri": "https://localhost:8080/"
        },
        "id": "nTlBebU0S0nD",
        "outputId": "e423e143-e066-4288-ffb2-16f376bfb10c"
      },
      "outputs": [
        {
          "name": "stdout",
          "output_type": "stream",
          "text": [
            "    x_ray types                                              image\n",
            "0  Tuberculosis  /content/drive/MyDrive/tuber_images/Tuberculos...\n",
            "1  Tuberculosis  /content/drive/MyDrive/tuber_images/Tuberculos...\n",
            "2  Tuberculosis  /content/drive/MyDrive/tuber_images/Tuberculos...\n",
            "3  Tuberculosis  /content/drive/MyDrive/tuber_images/Tuberculos...\n",
            "4  Tuberculosis  /content/drive/MyDrive/tuber_images/Tuberculos...\n"
          ]
        }
      ],
      "source": [
        "rooms_df = pd.DataFrame(data=rays, columns=['x_ray types', 'image'])\n",
        "print(rooms_df.head())"
      ]
    },
    {
      "cell_type": "code",
      "execution_count": null,
      "metadata": {
        "colab": {
          "base_uri": "https://localhost:8080/"
        },
        "id": "wpMnunZjS0pJ",
        "outputId": "7da01e23-0f3f-4a42-d94b-87dac7b73948"
      },
      "outputs": [
        {
          "name": "stdout",
          "output_type": "stream",
          "text": [
            "Total number of images in dataset:  4280\n",
            "xrays in each category: \n",
            "Normal          3575\n",
            "Tuberculosis     705\n",
            "Name: x_ray types, dtype: int64\n"
          ]
        }
      ],
      "source": [
        "print(\"Total number of images in dataset: \", len(rooms_df))\n",
        "\n",
        "room_count = rooms_df['x_ray types'].value_counts()\n",
        "\n",
        "print(\"xrays in each category: \")\n",
        "print(room_count)"
      ]
    },
    {
      "cell_type": "code",
      "execution_count": null,
      "metadata": {
        "id": "CNZOeUYQS0rx"
      },
      "outputs": [],
      "source": [
        "import cv2\n",
        "path = '/content/drive/MyDrive/tuber_images/'\n",
        "\n",
        "im_size=224\n",
        "\n",
        "images = []\n",
        "labels=[]\n",
        "\n",
        "for i in x_ray_types:\n",
        "    data_path = path +str(i)\n",
        "    filenames = [i for i in os.listdir(data_path)]\n",
        "    \n",
        "    for f in filenames:\n",
        "        img = cv2.imread(data_path + '/' + f)\n",
        "        img = cv2.resize(img, (im_size, im_size))\n",
        "        images.append(img)\n",
        "        labels.append(i)"
      ]
    },
    {
      "cell_type": "code",
      "execution_count": null,
      "metadata": {
        "colab": {
          "base_uri": "https://localhost:8080/"
        },
        "id": "6GHCEfD5TMow",
        "outputId": "40098256-739f-4841-b204-35d94263c49e"
      },
      "outputs": [
        {
          "data": {
            "text/plain": [
              "(4280, 224, 224, 3)"
            ]
          },
          "execution_count": 14,
          "metadata": {},
          "output_type": "execute_result"
        }
      ],
      "source": [
        "images = np.array(images)\n",
        "\n",
        "images = images.astype('float32')/255.0\n",
        "images.shape"
      ]
    },
    {
      "cell_type": "code",
      "execution_count": null,
      "metadata": {
        "colab": {
          "base_uri": "https://localhost:8080/"
        },
        "id": "gVdkLjKATMrG",
        "outputId": "eec99a4e-aa99-4044-898a-5be9b1695962"
      },
      "outputs": [
        {
          "name": "stdout",
          "output_type": "stream",
          "text": [
            "[1 1 1 ... 0 0 0]\n"
          ]
        }
      ],
      "source": [
        "from sklearn.preprocessing import LabelEncoder, OneHotEncoder\n",
        "y=rooms_df['x_ray types'].values\n",
        "\n",
        "y_labelencoder = LabelEncoder()\n",
        "y= y_labelencoder.fit_transform (y)\n",
        "print(y)"
      ]
    },
    {
      "cell_type": "code",
      "execution_count": null,
      "metadata": {
        "colab": {
          "base_uri": "https://localhost:8080/"
        },
        "id": "IDMGNlFqTMtw",
        "outputId": "99401077-0b78-4dc2-842d-a31e87cdc584"
      },
      "outputs": [
        {
          "name": "stdout",
          "output_type": "stream",
          "text": [
            "(3638, 224, 224, 3)\n",
            "(3638,)\n",
            "(642, 224, 224, 3)\n",
            "(642,)\n"
          ]
        }
      ],
      "source": [
        "from sklearn.utils import shuffle\n",
        "from sklearn.model_selection import train_test_split\n",
        "\n",
        "y = shuffle(y, random_state=1)\n",
        "train_x, test_x, train_y, test_y = train_test_split( images, y, test_size=0.15, random_state=415)\n",
        "\n",
        "print(train_x.shape)\n",
        "print(train_y.shape)\n",
        "print(test_x.shape)\n",
        "print(test_y.shape)"
      ]
    },
    {
      "cell_type": "code",
      "execution_count": null,
      "metadata": {
        "colab": {
          "background_save": true,
          "base_uri": "https://localhost:8080/"
        },
        "id": "-MPk_l1jTMv1",
        "outputId": "a3e85fb7-b7fb-4962-9c57-8d647dcedac5"
      },
      "outputs": [
        {
          "name": "stdout",
          "output_type": "stream",
          "text": [
            "Epoch 1/5\n",
            "114/114 [==============================] - 769s 7s/step - loss: 0.5045 - accuracy: 0.8321\n",
            "Epoch 2/5\n",
            "114/114 [==============================] - 1139s 10s/step - loss: 0.4496 - accuracy: 0.8367\n",
            "Epoch 3/5\n",
            "114/114 [==============================] - 1113s 10s/step - loss: 0.4511 - accuracy: 0.8367\n",
            "Epoch 4/5\n",
            "114/114 [==============================] - 1133s 10s/step - loss: 0.4484 - accuracy: 0.8367\n",
            "Epoch 5/5\n",
            "114/114 [==============================] - 1115s 10s/step - loss: 0.4475 - accuracy: 0.8367\n"
          ]
        },
        {
          "data": {
            "text/plain": [
              "<keras.callbacks.History at 0x7f4a37b45b10>"
            ]
          },
          "execution_count": 17,
          "metadata": {},
          "output_type": "execute_result"
        }
      ],
      "source": [
        "model.fit(train_x, train_y, epochs = 5, batch_size=32)"
      ]
    },
    {
      "cell_type": "code",
      "execution_count": null,
      "metadata": {
        "colab": {
          "background_save": true
        },
        "id": "4pH3WM8DTMyP",
        "outputId": "21d5e795-c9a9-4622-9f4c-e6479e3e0700"
      },
      "outputs": [
        {
          "name": "stdout",
          "output_type": "stream",
          "text": [
            "21/21 [==============================] - 24s 1s/step - loss: 0.4605 - accuracy: 0.8271\n",
            "loss = 0.46049752831459045\n",
            "Test accuracy= 0.827102780342102\n"
          ]
        }
      ],
      "source": [
        "preds = model.evaluate(test_x, test_y)\n",
        "print(\"loss = \" + str(preds[0]))\n",
        "print(\"Test accuracy= \" + str(preds[1]))"
      ]
    }
  ],
  "metadata": {
    "accelerator": "TPU",
    "colab": {
      "background_execution": "on",
      "machine_shape": "hm",
      "provenance": [],
      "authorship_tag": "ABX9TyMw2OZpKogPEKXyuAm65GcQ"
    },
    "gpuClass": "standard",
    "kernelspec": {
      "display_name": "Python 3",
      "name": "python3"
    },
    "language_info": {
      "name": "python"
    }
  },
  "nbformat": 4,
  "nbformat_minor": 0
}