{
  "cells": [
    {
      "cell_type": "code",
      "execution_count": null,
      "metadata": {
        "id": "o6obmQXmMbjn"
      },
      "outputs": [],
      "source": [
        "from __future__ import print_function\n",
        "\n",
        "import numpy as np\n",
        "import warnings\n",
        "\n",
        "from keras.models import Model\n",
        "from keras.layers import Flatten, Dense, Input, Conv2D, MaxPooling2D, GlobalMaxPooling2D, GlobalAveragePooling2D\n",
        "from keras.preprocessing import image\n",
        "from keras.utils import layer_utils\n",
        "from keras.utils.data_utils import get_file\n",
        "from keras import backend as k\n",
        "from keras.applications.imagenet_utils import decode_predictions\n",
        "from keras.applications.imagenet_utils import preprocess_input\n",
        "from keras.applications.imagenet_utils import obtain_input_shape"
      ]
    },
    {
      "cell_type": "code",
      "execution_count": null,
      "metadata": {
        "colab": {
          "base_uri": "https://localhost:8080/"
        },
        "id": "scr8piMgMh0A",
        "outputId": "4bc32723-430f-473c-f086-e1f2031f7901"
      },
      "outputs": [
        {
          "output_type": "stream",
          "name": "stdout",
          "text": [
            "Looking in indexes: https://pypi.org/simple, https://us-python.pkg.dev/colab-wheels/public/simple/\n",
            "Requirement already satisfied: keras in /usr/local/lib/python3.7/dist-packages (2.8.0)\n"
          ]
        }
      ],
      "source": [
        "import tensorflow as tf\n",
        "tf.__version__\n",
        "\n",
        "!sudo pip3 install keras"
      ]
    },
    {
      "cell_type": "code",
      "execution_count": null,
      "metadata": {
        "colab": {
          "base_uri": "https://localhost:8080/"
        },
        "id": "053HGWM2Mnu7",
        "outputId": "2d88bce5-df2d-4342-a084-52fa631c3fae"
      },
      "outputs": [
        {
          "output_type": "stream",
          "name": "stdout",
          "text": [
            "Mounted at /content/drive/\n"
          ]
        }
      ],
      "source": [
        "from google.colab import drive\n",
        "drive.mount('/content/drive/')"
      ]
    },
    {
      "cell_type": "code",
      "execution_count": null,
      "metadata": {
        "id": "stGrY0nKMqOW"
      },
      "outputs": [],
      "source": [
        "from tensorflow.keras.layers import Layer, InputSpec"
      ]
    },
    {
      "cell_type": "code",
      "execution_count": null,
      "metadata": {
        "id": "4O1mxZ_1Mqbu"
      },
      "outputs": [],
      "source": [
        "def VGGupdated(input_tensor=None, classes=2): \n",
        "    \n",
        "    img_rows, img_cols = 224,224\n",
        "    img_channels = 3 #we are going to work on coloured images\n",
        "    \n",
        "    img_dim = (img_rows, img_cols, img_channels)\n",
        "    \n",
        "    img_input = Input(shape = img_dim) #input from user we want is tis\n",
        "    \n",
        "    \n",
        "    #block1\n",
        "    x = Conv2D(64, (3,3), activation='relu', padding='same', name='block1_conv1')(img_input) #64 filters of 3x3,padding same as we want size of output image ame as input image\n",
        "    x = Conv2D(64, (3,3), activation='relu', padding='same', name='block1_conv2')(x)#relu will replace all the negative values with 0\n",
        "    x = MaxPooling2D((2,2), strides=(2,2), name='block1_pool')(x) #pooling to reduce the image size, strides the window size for scanning\n",
        "    \n",
        "    #block2\n",
        "    x = Conv2D(128, (3,3), activation='relu', padding='same', name='block2_conv1')(x)\n",
        "    x = Conv2D(128, (3,3), activation='relu', padding='same', name='block2_conv2')(x)\n",
        "    x = MaxPooling2D((2,2), strides=(2,2), name='block2_pool')(x) \n",
        "    \n",
        "    #block3\n",
        "    x = Conv2D(256, (3,3), activation='relu', padding='same', name='block3_conv1')(x)\n",
        "    x = Conv2D(256, (3,3), activation='relu', padding='same', name='block3_conv2')(x)\n",
        "    x = Conv2D(256, (3,3), activation='relu', padding='same', name='block3_conv3')(x)\n",
        "    x = MaxPooling2D((2,2), strides=(2,2), name='block3_pool')(x)\n",
        "    \n",
        "    #block4\n",
        "    x = Conv2D(512, (3,3), activation='relu', padding='same', name='block4_conv1')(x)\n",
        "    x = Conv2D(512, (3,3), activation='relu', padding='same', name='block4_conv2')(x)\n",
        "    x = Conv2D(512, (3,3), activation='relu', padding='same', name='block4_conv3')(x)\n",
        "    x = MaxPooling2D((2,2), strides=(2,2), name='block4_pool')(x)\n",
        "    \n",
        "    #block5\n",
        "    x = Conv2D(256, (3,3), activation='relu', padding='same', name='block5_conv1')(x)\n",
        "    x = Conv2D(256, (3,3), activation='relu', padding='same', name='block5_conv2')(x)\n",
        "    x = Conv2D(256, (3,3), activation='relu', padding='same', name='block5_conv3')(x)\n",
        "    x = MaxPooling2D((2,2), strides=(2,2), name='block5_pool')(x)\n",
        "    \n",
        "    #classification block\n",
        "    x = Flatten(name='flatten')(x) #when we need to classify image we ned to flaten it\n",
        "    x = Dense(4096, activation='relu', name='fc1')(x) #4096 nurons\n",
        "    x = Dense(4096, activation='relu', name='fc2')(x)\n",
        "    x = Dense(classes, activation='sigmoid', name='predictions')(x)\n",
        "    \n",
        "    \n",
        "    #create model\n",
        "    model = Model(inputs = img_input, outputs = x, name='vggtuber')\n",
        "    \n",
        "    return model"
      ]
    },
    {
      "cell_type": "code",
      "execution_count": null,
      "metadata": {
        "id": "a8XdXSuvMqeW"
      },
      "outputs": [],
      "source": [
        "model = VGGupdated(classes = 2) # normal and tuber"
      ]
    },
    {
      "cell_type": "code",
      "execution_count": null,
      "metadata": {
        "colab": {
          "base_uri": "https://localhost:8080/"
        },
        "id": "rQ-081UVeS0d",
        "outputId": "5edcdd6e-0e76-4b31-8d56-f3e9ece40a03"
      },
      "outputs": [
        {
          "output_type": "stream",
          "name": "stdout",
          "text": [
            "Model: \"vggtuber\"\n",
            "_________________________________________________________________\n",
            " Layer (type)                Output Shape              Param #   \n",
            "=================================================================\n",
            " input_1 (InputLayer)        [(None, 224, 224, 3)]     0         \n",
            "                                                                 \n",
            " block1_conv1 (Conv2D)       (None, 224, 224, 64)      1792      \n",
            "                                                                 \n",
            " block1_conv2 (Conv2D)       (None, 224, 224, 64)      36928     \n",
            "                                                                 \n",
            " block1_pool (MaxPooling2D)  (None, 112, 112, 64)      0         \n",
            "                                                                 \n",
            " block2_conv1 (Conv2D)       (None, 112, 112, 128)     73856     \n",
            "                                                                 \n",
            " block2_conv2 (Conv2D)       (None, 112, 112, 128)     147584    \n",
            "                                                                 \n",
            " block2_pool (MaxPooling2D)  (None, 56, 56, 128)       0         \n",
            "                                                                 \n",
            " block3_conv1 (Conv2D)       (None, 56, 56, 256)       295168    \n",
            "                                                                 \n",
            " block3_conv2 (Conv2D)       (None, 56, 56, 256)       590080    \n",
            "                                                                 \n",
            " block3_conv3 (Conv2D)       (None, 56, 56, 256)       590080    \n",
            "                                                                 \n",
            " block3_pool (MaxPooling2D)  (None, 28, 28, 256)       0         \n",
            "                                                                 \n",
            " block4_conv1 (Conv2D)       (None, 28, 28, 512)       1180160   \n",
            "                                                                 \n",
            " block4_conv2 (Conv2D)       (None, 28, 28, 512)       2359808   \n",
            "                                                                 \n",
            " block4_conv3 (Conv2D)       (None, 28, 28, 512)       2359808   \n",
            "                                                                 \n",
            " block4_pool (MaxPooling2D)  (None, 14, 14, 512)       0         \n",
            "                                                                 \n",
            " block5_conv1 (Conv2D)       (None, 14, 14, 256)       1179904   \n",
            "                                                                 \n",
            " block5_conv2 (Conv2D)       (None, 14, 14, 256)       590080    \n",
            "                                                                 \n",
            " block5_conv3 (Conv2D)       (None, 14, 14, 256)       590080    \n",
            "                                                                 \n",
            " block5_pool (MaxPooling2D)  (None, 7, 7, 256)         0         \n",
            "                                                                 \n",
            " flatten (Flatten)           (None, 12544)             0         \n",
            "                                                                 \n",
            " fc1 (Dense)                 (None, 4096)              51384320  \n",
            "                                                                 \n",
            " fc2 (Dense)                 (None, 4096)              16781312  \n",
            "                                                                 \n",
            " predictions (Dense)         (None, 2)                 8194      \n",
            "                                                                 \n",
            "=================================================================\n",
            "Total params: 78,169,154\n",
            "Trainable params: 78,169,154\n",
            "Non-trainable params: 0\n",
            "_________________________________________________________________\n"
          ]
        }
      ],
      "source": [
        "model.summary()"
      ]
    },
    {
      "cell_type": "code",
      "execution_count": null,
      "metadata": {
        "id": "HT0LLChsMqga"
      },
      "outputs": [],
      "source": [
        "#model.compile(optimizer = 'adam', loss='categorial_crossentropy', metrics=['accuracy'])\n",
        "model.compile(\n",
        "  loss='SparseCategoricalCrossentropy',\n",
        "  optimizer='adam',\n",
        "  metrics=['accuracy']\n",
        ")\n"
      ]
    },
    {
      "cell_type": "code",
      "execution_count": null,
      "metadata": {
        "colab": {
          "base_uri": "https://localhost:8080/"
        },
        "id": "WGKdh_VPMzK4",
        "outputId": "a001d8a8-c15b-4480-d34c-e6602673aacf"
      },
      "outputs": [
        {
          "output_type": "stream",
          "name": "stdout",
          "text": [
            "['Tuberculosis', 'Normal']\n",
            "types of xray found: 2\n"
          ]
        }
      ],
      "source": [
        "import numpy as np \n",
        "import pandas as pd\n",
        "import matplotlib.pyplot as plt\n",
        "import os\n",
        "\n",
        "dataset_path = os.listdir('/content/drive/MyDrive/tuber_images') #will give the list of folders in the tuber_images\n",
        "\n",
        "x_ray_types = os.listdir('/content/drive/MyDrive/tuber_images')\n",
        "print(x_ray_types)# what types of xray are there in dataset\n",
        "\n",
        "print(\"types of xray found:\", len(dataset_path))"
      ]
    },
    {
      "cell_type": "code",
      "execution_count": null,
      "metadata": {
        "colab": {
          "base_uri": "https://localhost:8080/"
        },
        "id": "0CNptS9wMzNU",
        "outputId": "0f7b9abd-9cf7-4ee6-f1e9-084b15ba9191"
      },
      "outputs": [
        {
          "output_type": "stream",
          "name": "stderr",
          "text": [
            "IOPub data rate exceeded.\n",
            "The notebook server will temporarily stop sending output\n",
            "to the client in order to avoid crashing it.\n",
            "To change this limit, set the config variable\n",
            "`--NotebookApp.iopub_data_rate_limit`.\n",
            "\n",
            "Current values:\n",
            "NotebookApp.iopub_data_rate_limit=1000000.0 (bytes/sec)\n",
            "NotebookApp.rate_limit_window=3.0 (secs)\n",
            "\n"
          ]
        }
      ],
      "source": [
        "rays = []\n",
        "\n",
        "for item in x_ray_types:\n",
        "    all_rays = os.listdir('/content/drive/MyDrive/tuber_images' + '/' + item)\n",
        "    \n",
        "    \n",
        "    for ray in all_rays:\n",
        "        rays.append((item, str('/content/drive/MyDrive/tuber_images' + '/' + item) + '/' + ray))\n",
        "        print(rays)"
      ]
    },
    {
      "cell_type": "code",
      "execution_count": null,
      "metadata": {
        "colab": {
          "base_uri": "https://localhost:8080/"
        },
        "id": "j3K91pJsMzPz",
        "outputId": "b9779867-0e99-4a3f-e481-d7b12e0f7128"
      },
      "outputs": [
        {
          "output_type": "stream",
          "name": "stdout",
          "text": [
            "    x_ray types                                              image\n",
            "0  Tuberculosis  /content/drive/MyDrive/tuber_images/Tuberculos...\n",
            "1  Tuberculosis  /content/drive/MyDrive/tuber_images/Tuberculos...\n",
            "2  Tuberculosis  /content/drive/MyDrive/tuber_images/Tuberculos...\n",
            "3  Tuberculosis  /content/drive/MyDrive/tuber_images/Tuberculos...\n",
            "4  Tuberculosis  /content/drive/MyDrive/tuber_images/Tuberculos...\n"
          ]
        }
      ],
      "source": [
        "rooms_df = pd.DataFrame(data=rays, columns=['x_ray types', 'image'])\n",
        "print(rooms_df.head())"
      ]
    },
    {
      "cell_type": "code",
      "execution_count": null,
      "metadata": {
        "colab": {
          "base_uri": "https://localhost:8080/"
        },
        "id": "P7xQirNTM7vp",
        "outputId": "cd1bd7e3-0c9b-4365-ff4d-e41cdcf0eb73"
      },
      "outputs": [
        {
          "output_type": "stream",
          "name": "stdout",
          "text": [
            "Total number of images in dataset:  4280\n",
            "xrays in each category: \n",
            "Normal          3575\n",
            "Tuberculosis     705\n",
            "Name: x_ray types, dtype: int64\n"
          ]
        }
      ],
      "source": [
        "print(\"Total number of images in dataset: \", len(rooms_df))\n",
        "\n",
        "room_count = rooms_df['x_ray types'].value_counts()\n",
        "\n",
        "print(\"xrays in each category: \")\n",
        "print(room_count)"
      ]
    },
    {
      "cell_type": "code",
      "execution_count": null,
      "metadata": {
        "id": "iaQu1fUoM7yN"
      },
      "outputs": [],
      "source": [
        "import cv2\n",
        "path = '/content/drive/MyDrive/tuber_images/'\n",
        "\n",
        "im_size=224\n",
        "\n",
        "images = []\n",
        "labels=[]\n",
        "\n",
        "for i in x_ray_types:\n",
        "    data_path = path +str(i)\n",
        "    filenames = [i for i in os.listdir(data_path)]\n",
        "    \n",
        "    for f in filenames:\n",
        "        img = cv2.imread(data_path + '/' + f)\n",
        "        img = cv2.resize(img, (im_size, im_size))\n",
        "        images.append(img)\n",
        "        labels.append(i)"
      ]
    },
    {
      "cell_type": "code",
      "execution_count": null,
      "metadata": {
        "colab": {
          "base_uri": "https://localhost:8080/"
        },
        "id": "opN-wuosM70j",
        "outputId": "485a476f-5ec6-4781-a2ee-97ee8028fe2a"
      },
      "outputs": [
        {
          "output_type": "execute_result",
          "data": {
            "text/plain": [
              "(4280, 224, 224, 3)"
            ]
          },
          "metadata": {},
          "execution_count": 17
        }
      ],
      "source": [
        "images = np.array(images)\n",
        "\n",
        "images = images.astype('float32')/255.0\n",
        "images.shape"
      ]
    },
    {
      "cell_type": "code",
      "execution_count": null,
      "metadata": {
        "colab": {
          "base_uri": "https://localhost:8080/"
        },
        "id": "PP37RzkeNIC5",
        "outputId": "296423f6-03f0-47ca-be3e-fdd6e8d4963e"
      },
      "outputs": [
        {
          "output_type": "stream",
          "name": "stdout",
          "text": [
            "[1 1 1 ... 0 0 0]\n"
          ]
        }
      ],
      "source": [
        "from sklearn.preprocessing import LabelEncoder\n",
        "y=rooms_df['x_ray types'].values\n",
        "\n",
        "y_labelencoder = LabelEncoder()\n",
        "y= y_labelencoder.fit_transform (y)\n",
        "print(y)"
      ]
    },
    {
      "cell_type": "code",
      "execution_count": null,
      "metadata": {
        "colab": {
          "base_uri": "https://localhost:8080/"
        },
        "id": "UpMnqyEQNIFK",
        "outputId": "818b5058-02d1-4384-be23-51b43c24eacd"
      },
      "outputs": [
        {
          "output_type": "stream",
          "name": "stdout",
          "text": [
            "(3424, 224, 224, 3)\n",
            "(3424,)\n",
            "(856, 224, 224, 3)\n",
            "(856,)\n"
          ]
        }
      ],
      "source": [
        "from sklearn.utils import shuffle\n",
        "from sklearn.model_selection import train_test_split\n",
        "\n",
        "y = shuffle(y, random_state=1)\n",
        "train_x, test_x, train_y, test_y = train_test_split( images, y, test_size=0.20, random_state=415)\n",
        "\n",
        "print(train_x.shape)\n",
        "print(train_y.shape)\n",
        "print(test_x.shape)\n",
        "print(test_y.shape)"
      ]
    },
    {
      "cell_type": "code",
      "execution_count": null,
      "metadata": {
        "colab": {
          "base_uri": "https://localhost:8080/"
        },
        "id": "nu4KWo2QNIJh",
        "outputId": "3087457e-8cfc-4399-8ded-076629709870"
      },
      "outputs": [
        {
          "output_type": "stream",
          "name": "stdout",
          "text": [
            "Epoch 1/5\n",
            "107/107 [==============================] - 970s 9s/step - loss: 0.4886 - accuracy: 0.8230\n",
            "Epoch 2/5\n",
            "107/107 [==============================] - 958s 9s/step - loss: 0.4547 - accuracy: 0.8353\n",
            "Epoch 3/5\n",
            "107/107 [==============================] - 960s 9s/step - loss: 0.4511 - accuracy: 0.8353\n",
            "Epoch 4/5\n",
            "107/107 [==============================] - 963s 9s/step - loss: 0.4504 - accuracy: 0.8353\n",
            "Epoch 5/5\n",
            "107/107 [==============================] - 964s 9s/step - loss: 0.4497 - accuracy: 0.8353\n"
          ]
        },
        {
          "output_type": "execute_result",
          "data": {
            "text/plain": [
              "<keras.callbacks.History at 0x7fd2d337bc50>"
            ]
          },
          "metadata": {},
          "execution_count": 19
        }
      ],
      "source": [
        "model.fit(train_x, train_y, epochs = 5, batch_size=32)"
      ]
    },
    {
      "cell_type": "code",
      "execution_count": null,
      "metadata": {
        "colab": {
          "base_uri": "https://localhost:8080/"
        },
        "id": "QIs4Si4u9omz",
        "outputId": "f76472f5-c3e5-4fee-bc39-a8004d5a904b"
      },
      "outputs": [
        {
          "output_type": "stream",
          "name": "stdout",
          "text": [
            "27/27 [==============================] - 41s 2s/step - loss: 0.4482 - accuracy: 0.8353\n",
            "loss = 0.44817328453063965\n",
            "Test accuracy= 0.8352803587913513\n"
          ]
        }
      ],
      "source": [
        "preds = model.evaluate(test_x, test_y)\n",
        "print(\"loss = \" + str(preds[0]))\n",
        "print(\"Test accuracy= \" + str(preds[1]))"
      ]
    },
    {
      "cell_type": "code",
      "execution_count": null,
      "metadata": {
        "id": "zmLc6b2L9iqA"
      },
      "outputs": [],
      "source": [
        "import tensorflow as tf\n",
        "from keras.models import load_model\n",
        "model.save('vgg16tuber.h5')"
      ]
    }
  ],
  "metadata": {
    "accelerator": "TPU",
    "colab": {
      "background_execution": "on",
      "collapsed_sections": [],
      "machine_shape": "hm",
      "provenance": [],
      "authorship_tag": "ABX9TyMKwhhoekQHd8rZ/vUb8d0T"
    },
    "gpuClass": "standard",
    "kernelspec": {
      "display_name": "Python 3",
      "name": "python3"
    },
    "language_info": {
      "name": "python"
    }
  },
  "nbformat": 4,
  "nbformat_minor": 0
}