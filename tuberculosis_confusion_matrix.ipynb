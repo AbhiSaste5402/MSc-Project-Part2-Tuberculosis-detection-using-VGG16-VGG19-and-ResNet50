{
  "cells": [
    {
      "cell_type": "code",
      "execution_count": null,
      "metadata": {
        "colab": {
          "base_uri": "https://localhost:8080/"
        },
        "id": "E4Vt8SpDhEQp",
        "outputId": "55ee2c64-4540-4a8b-b544-33546c378090"
      },
      "outputs": [
        {
          "name": "stdout",
          "output_type": "stream",
          "text": [
            "Mounted at /content/drive/\n"
          ]
        }
      ],
      "source": [
        "from google.colab import drive\n",
        "drive.mount('/content/drive/')"
      ]
    },
    {
      "cell_type": "code",
      "execution_count": null,
      "metadata": {
        "id": "2mkcFmAnhPFd"
      },
      "outputs": [],
      "source": [
        "import numpy as np\n",
        "from keras import layers, backend\n",
        "from keras.layers import Input, Add, Dense, Activation, ZeroPadding2D, BatchNormalization, Flatten, Conv2D, AveragePooling2D, MaxPooling2D, GlobalMaxPooling2D, GlobalAveragePooling2D\n",
        "from keras.models import Model, load_model\n",
        "from keras.preprocessing import image\n",
        "from keras.utils import layer_utils\n",
        "from keras import utils as np_utils\n",
        "from keras.utils.data_utils import get_file\n",
        "from keras.applications.imagenet_utils import preprocess_input\n",
        "import pydot\n",
        "from IPython.display import SVG\n",
        "from keras.utils.vis_utils import model_to_dot\n",
        "from keras.utils.vis_utils import plot_model\n",
        "from keras.initializers import glorot_uniform \n",
        "import scipy.misc\n",
        "from matplotlib.pyplot import imshow\n",
        "from keras.initializers import glorot_uniform\n",
        "from tensorflow import keras\n",
        "from keras.applications import imagenet_utils\n",
        "import tensorflow as tf\n",
        "from __future__ import print_function\n",
        "from sklearn.model_selection import train_test_split\n",
        "import numpy as np\n",
        "import warnings\n",
        "from functools import reduce\n",
        "from PIL import Image, ImageStat\n",
        "import os\n",
        "import cv2"
      ]
    },
    {
      "cell_type": "code",
      "execution_count": null,
      "metadata": {
        "colab": {
          "base_uri": "https://localhost:8080/"
        },
        "id": "D5hybv2shW0e",
        "outputId": "45e0a798-c6ff-4ee0-9b6d-8f1b2f9617ec"
      },
      "outputs": [
        {
          "name": "stdout",
          "output_type": "stream",
          "text": [
            "Looking in indexes: https://pypi.org/simple, https://us-python.pkg.dev/colab-wheels/public/simple/\n",
            "Requirement already satisfied: keras in /usr/local/lib/python3.7/dist-packages (2.8.0)\n"
          ]
        }
      ],
      "source": [
        "import tensorflow as tf\n",
        "tf.__version__\n",
        "\n",
        "!sudo pip3 install keras"
      ]
    },
    {
      "cell_type": "code",
      "execution_count": null,
      "metadata": {
        "id": "TkJ4SDDEhoUu"
      },
      "outputs": [],
      "source": [
        "from tensorflow.keras.layers import Layer, InputSpec"
      ]
    },
    {
      "cell_type": "code",
      "execution_count": null,
      "metadata": {
        "id": "YiJIqkg-tbHB"
      },
      "outputs": [],
      "source": [
        "def Otsus_Binarization(folder,target):\n",
        "    images = []\n",
        "    for filename in os.listdir(folder):\n",
        "        img = cv2.imread(os.path.join(folder,filename),0)\n",
        "        #ret2,th2 = cv2.threshold(img,0,255,cv2.THRESH_BINARY+cv2.THRESH_OTSU)\n",
        "        if img is not None:\n",
        "            images.append([img,target])\n",
        "    return images"
      ]
    },
    {
      "cell_type": "code",
      "execution_count": null,
      "metadata": {
        "id": "UAZifx3XuQOC"
      },
      "outputs": [],
      "source": [
        "tubercolosis = Otsus_Binarization('/content/drive/MyDrive/tuber_images/Normal/',0)"
      ]
    },
    {
      "cell_type": "code",
      "execution_count": null,
      "metadata": {
        "id": "mCpf22i0yGOF"
      },
      "outputs": [],
      "source": [
        "tb = Otsus_Binarization('/content/drive/MyDrive/tuber_images/Tuberculosis',1)"
      ]
    },
    {
      "cell_type": "code",
      "execution_count": null,
      "metadata": {
        "id": "oky3rlexwD2r"
      },
      "outputs": [],
      "source": [
        "tubercolosis.extend(tb)"
      ]
    },
    {
      "cell_type": "code",
      "execution_count": null,
      "metadata": {
        "id": "ZU27VE9y1PXv"
      },
      "outputs": [],
      "source": [
        "TOTAL_DATA = tubercolosis"
      ]
    },
    {
      "cell_type": "code",
      "execution_count": null,
      "metadata": {
        "id": "kkNaZuZS1PeG"
      },
      "outputs": [],
      "source": [
        "FEATURE_MATRIX = []\n",
        "TARGET=[]\n",
        "for x,y in TOTAL_DATA:\n",
        "    FEATURE_MATRIX.append(x)\n",
        "    TARGET.append(y)"
      ]
    },
    {
      "cell_type": "code",
      "execution_count": null,
      "metadata": {
        "id": "dJe4GnjQ1PiY"
      },
      "outputs": [],
      "source": [
        "X=[]\n",
        "IMG_SIZE= 224\n",
        "for x in FEATURE_MATRIX:\n",
        "    new_array = cv2.resize(x,(IMG_SIZE,IMG_SIZE))\n",
        "    X.append(new_array)"
      ]
    },
    {
      "cell_type": "code",
      "execution_count": null,
      "metadata": {
        "id": "NJHjwqqT1PlW"
      },
      "outputs": [],
      "source": [
        "NORMALIZED_X = []\n",
        "for x in X:\n",
        "    tmp = x/255\n",
        "    NORMALIZED_X.append(tmp)"
      ]
    },
    {
      "cell_type": "code",
      "execution_count": null,
      "metadata": {
        "id": "eGHvaQbA1c9_"
      },
      "outputs": [],
      "source": [
        "x_train,x_test,y_train,y_test = train_test_split(NORMALIZED_X,TARGET)"
      ]
    },
    {
      "cell_type": "code",
      "execution_count": null,
      "metadata": {
        "colab": {
          "base_uri": "https://localhost:8080/"
        },
        "id": "iFfAgd_v1dAm",
        "outputId": "5f88dd33-cfd6-4367-c887-14841c92f4c9"
      },
      "outputs": [
        {
          "name": "stdout",
          "output_type": "stream",
          "text": [
            "(3210, 224, 224)\n",
            "(1070, 224, 224)\n",
            "(3210,)\n",
            "(1070,)\n"
          ]
        }
      ],
      "source": [
        "print(np.array(x_train).shape)\n",
        "print(np.array(x_test).shape)\n",
        "print(np.array(y_train).shape)\n",
        "print(np.array(y_test).shape)"
      ]
    },
    {
      "cell_type": "code",
      "execution_count": null,
      "metadata": {
        "colab": {
          "base_uri": "https://localhost:8080/"
        },
        "id": "DJJIOvFV1dC_",
        "outputId": "14de5b22-4a22-481f-d9c4-a0f4ed0f7652"
      },
      "outputs": [
        {
          "name": "stdout",
          "output_type": "stream",
          "text": [
            "224\n",
            "224\n"
          ]
        }
      ],
      "source": [
        "img_rows=x_train[0].shape[0]\n",
        "img_cols=x_train[0].shape[1]\n",
        "print(img_rows)\n",
        "print(img_cols)"
      ]
    },
    {
      "cell_type": "code",
      "execution_count": null,
      "metadata": {
        "id": "QWrJpBQH1dFb"
      },
      "outputs": [],
      "source": [
        "x_train = np.array(x_train)\n",
        "x_test = np.array(x_test)"
      ]
    },
    {
      "cell_type": "code",
      "execution_count": null,
      "metadata": {
        "id": "KDxk4mQZ1dIC"
      },
      "outputs": [],
      "source": [
        "##in crease 1 dimension\n",
        "X_train=x_train.reshape(x_train.shape[0],img_rows,img_cols,1)\n",
        "X_test=x_test.reshape(x_test.shape[0],img_rows,img_cols,1)"
      ]
    },
    {
      "cell_type": "code",
      "execution_count": null,
      "metadata": {
        "colab": {
          "base_uri": "https://localhost:8080/"
        },
        "id": "LGiSFaRb2Z_h",
        "outputId": "1257088d-cbef-4904-d1f3-ba96891b4381"
      },
      "outputs": [
        {
          "name": "stdout",
          "output_type": "stream",
          "text": [
            "(3210, 224, 224, 1)\n",
            "(1070, 224, 224, 1)\n",
            "(3210,)\n",
            "(1070,)\n"
          ]
        }
      ],
      "source": [
        "print(np.array(X_train).shape)\n",
        "print(np.array(X_test).shape)\n",
        "print(np.array(y_train).shape)\n",
        "print(np.array(y_test).shape)"
      ]
    },
    {
      "cell_type": "code",
      "execution_count": null,
      "metadata": {
        "id": "CgiJxWE9niOb"
      },
      "outputs": [],
      "source": [
        "def identity_block(X, f, filters):\n",
        "  #retrive filters\n",
        "  F1, F2, F3 = filters\n",
        "\n",
        "  X_shortcut = X\n",
        "\n",
        "\n",
        "#first layer\n",
        "  X= Conv2D(filters = F1, kernel_size=(1,1), strides = (1,1), padding = 'same')(X)\n",
        "  X= BatchNormalization(axis=3)(X)\n",
        "  X= Activation('relu')(X)\n",
        "\n",
        "  #second layer\n",
        "  X= Conv2D(filters = F2, kernel_size=(f,f), strides = (1,1), padding = 'same')(X)\n",
        "  X= BatchNormalization(axis=3)(X)\n",
        "  X= Activation('relu')(X)\n",
        "\n",
        "  #third layer\n",
        "  X= Conv2D(filters = F3, kernel_size=(1,1),strides = (1,1), padding = 'same')(X)\n",
        "  X= BatchNormalization(axis=3)(X)\n",
        "\n",
        "\n",
        "  #final step: adding shoetcut value to F(x), and pass it through Relu activation\n",
        "  X= Add()([X, X_shortcut])\n",
        "  X= Activation('relu')(X)\n",
        "\n",
        "  return X\n",
        "           \n",
        "  "
      ]
    },
    {
      "cell_type": "code",
      "execution_count": null,
      "metadata": {
        "id": "djqtbo7Mn8Fa"
      },
      "outputs": [],
      "source": [
        "def convolution_block(X, f, filters, s=2):\n",
        "  #retrive filters\n",
        "  F1, F2, F3 = filters\n",
        "#saving the input value\n",
        "  X_shortcut = X\n",
        "\n",
        "#first layer\n",
        "  X= Conv2D(F1, (1,1), strides = (s,s))(X) #1,1 is a filter size\n",
        "  X= BatchNormalization(axis=3)(X)\n",
        "  X= Activation('relu')(X)\n",
        "\n",
        "#second layer (f,f)=3*3 filter by default\n",
        "  X= Conv2D(filters = F2, kernel_size=(f,f), strides = (1,1), padding = 'same')(X)\n",
        "  X= BatchNormalization(axis=3)(X)\n",
        "  X= Activation('relu')(X)\n",
        "\n",
        "#third layer\n",
        "  X= Conv2D(filters = F3, kernel_size=(1,1),strides = (1,1), padding = 'same')(X)\n",
        "  X= BatchNormalization(axis=3)(X)\n",
        "\n",
        "#shortcutpath\n",
        "  X_shortcut= Conv2D(filters = F3, kernel_size=(1,1),strides = (s,s), padding = 'same')(X_shortcut)\n",
        "  X_shortcut= BatchNormalization(axis=3)(X_shortcut)\n",
        "\n",
        "\n",
        "  #final step: adding shoetcut value to F(x), and pass it through Relu activation\n",
        "  X= Add()([X, X_shortcut])\n",
        "  X= Activation('relu')(X)\n",
        "\n",
        "\n",
        "  return X\n",
        "  "
      ]
    },
    {
      "cell_type": "code",
      "execution_count": null,
      "metadata": {
        "id": "mENf1b3bn8H6"
      },
      "outputs": [],
      "source": [
        "#from keras.engine.input_layer import InputLayer\n",
        "def ResNet50(input_shape=(224,224), classes=2):\n",
        "\n",
        "  \n",
        "  #defining the input with shape input_shape\n",
        "  X_input = Input(input_shape)\n",
        "  #keras.layers.Input(input_shape=(224, 224, 3))\n",
        "  #zero padding\n",
        "  x = ZeroPadding2D((3,3))( X_input) #3,3 padding\n",
        "\n",
        "  #stage1\n",
        "  x= Conv2D(64,(7,7), strides = (2,2))(x) #1,1 is a filter size\n",
        "  x= BatchNormalization(axis=3)(x)\n",
        "  x= Activation('relu')(x)\n",
        "  x= MaxPooling2D((3,3), strides=(2,2))(x)\n",
        "\n",
        "\n",
        "#second layer\n",
        "  x = convolution_block(x, f=3, filters=[64,64,256], s=1)\n",
        "  x = identity_block(x, 3, [64,64,256])\n",
        "  x = identity_block(x, 3, [64,64,256])\n",
        "\n",
        "#third stage\n",
        "  x = convolution_block(x, f=3, filters=[128,128,512], s=2)\n",
        "  x = identity_block(x, 3, [128,128,512])\n",
        "  x = identity_block(x, 3, [128,128,512])  \n",
        "  x = identity_block(x, 3, [128,128,512])\n",
        "\n",
        "#fourth stage\n",
        "  x = convolution_block(x, f=3, filters=[256,256,1024], s=2)\n",
        "  x = identity_block(x, 3, [256,256,1024])\n",
        "  x = identity_block(x, 3, [256,256,1024])  \n",
        "  x = identity_block(x, 3, [256,256,1024])\n",
        "  x = identity_block(x, 3, [256,256,1024])\n",
        "  x = identity_block(x, 3, [256,256,1024])\n",
        "\n",
        "#fifth stage\n",
        "  x = convolution_block(x, f=3, filters=[512,512,2048], s=2)\n",
        "  x = identity_block(x, 3, [512,512,2048])\n",
        "  x = identity_block(x, 3, [512,512,2048])\n",
        "\n",
        "#average pool\n",
        "  x = AveragePooling2D((2,2),name=\"avg_pool\")(x)\n",
        "\n",
        "#output layer\n",
        "  x = Flatten()(x)\n",
        "  x = Dense(classes, activation='softmax',name='fc' + str(classes), kernel_initializer = glorot_uniform(seed=42))(x)\n",
        "\n",
        "#creating a model\n",
        "  model = Model(inputs = X_input, outputs=x, name='ResNet50')\n",
        "\n",
        "  return model\n",
        "\n",
        "\n",
        "\n",
        "\n"
      ]
    },
    {
      "cell_type": "code",
      "execution_count": null,
      "metadata": {
        "id": "K2zB1CYsoFoD"
      },
      "outputs": [],
      "source": [
        "model = ResNet50(input_shape=(224,224,1), classes=2)"
      ]
    },
    {
      "cell_type": "code",
      "execution_count": null,
      "metadata": {
        "id": "ZVdWaXrH3Flh"
      },
      "outputs": [],
      "source": [
        "model.compile(optimizer='adam', loss='sparse_categorical_crossentropy', metrics=['accuracy'])"
      ]
    },
    {
      "cell_type": "code",
      "execution_count": null,
      "metadata": {
        "colab": {
          "base_uri": "https://localhost:8080/"
        },
        "id": "EFPIY01Cw6kz",
        "outputId": "873bc1db-1178-4419-d9ed-e8b702e7debc"
      },
      "outputs": [
        {
          "output_type": "stream",
          "name": "stdout",
          "text": [
            "Epoch 1/20\n",
            "101/101 [==============================] - 227s 2s/step - loss: 0.7779 - accuracy: 0.8975 - val_loss: 0.4775 - val_accuracy: 0.8206\n",
            "Epoch 2/20\n",
            "101/101 [==============================] - 227s 2s/step - loss: 0.0986 - accuracy: 0.9645 - val_loss: 1.3076 - val_accuracy: 0.3215\n",
            "Epoch 3/20\n",
            "101/101 [==============================] - 219s 2s/step - loss: 0.0618 - accuracy: 0.9807 - val_loss: 3.5407 - val_accuracy: 0.1869\n",
            "Epoch 4/20\n",
            "101/101 [==============================] - 242s 2s/step - loss: 0.0488 - accuracy: 0.9850 - val_loss: 2.7131 - val_accuracy: 0.2065\n",
            "Epoch 5/20\n",
            "101/101 [==============================] - 260s 3s/step - loss: 0.0403 - accuracy: 0.9860 - val_loss: 0.2191 - val_accuracy: 0.9411\n",
            "Epoch 6/20\n",
            "101/101 [==============================] - 252s 2s/step - loss: 0.0373 - accuracy: 0.9885 - val_loss: 0.3835 - val_accuracy: 0.8477\n",
            "Epoch 7/20\n",
            "101/101 [==============================] - 239s 2s/step - loss: 0.0631 - accuracy: 0.9798 - val_loss: 0.4079 - val_accuracy: 0.8421\n",
            "Epoch 8/20\n",
            "101/101 [==============================] - 238s 2s/step - loss: 0.6206 - accuracy: 0.9371 - val_loss: 25465.0215 - val_accuracy: 0.8224\n",
            "Epoch 9/20\n",
            "101/101 [==============================] - 220s 2s/step - loss: 0.1912 - accuracy: 0.9492 - val_loss: 22.4295 - val_accuracy: 0.8402\n",
            "Epoch 10/20\n",
            "101/101 [==============================] - 216s 2s/step - loss: 0.0642 - accuracy: 0.9769 - val_loss: 0.1131 - val_accuracy: 0.9617\n",
            "Epoch 11/20\n",
            "101/101 [==============================] - 216s 2s/step - loss: 0.0405 - accuracy: 0.9860 - val_loss: 0.3459 - val_accuracy: 0.8458\n",
            "Epoch 12/20\n",
            "101/101 [==============================] - 216s 2s/step - loss: 0.0276 - accuracy: 0.9888 - val_loss: 0.0383 - val_accuracy: 0.9832\n",
            "Epoch 13/20\n",
            "101/101 [==============================] - 217s 2s/step - loss: 0.0380 - accuracy: 0.9872 - val_loss: 0.0503 - val_accuracy: 0.9841\n",
            "Epoch 14/20\n",
            "101/101 [==============================] - 222s 2s/step - loss: 0.0215 - accuracy: 0.9916 - val_loss: 0.0619 - val_accuracy: 0.9804\n",
            "Epoch 15/20\n",
            "101/101 [==============================] - 217s 2s/step - loss: 0.0137 - accuracy: 0.9975 - val_loss: 0.0563 - val_accuracy: 0.9869\n",
            "Epoch 16/20\n",
            "101/101 [==============================] - 242s 2s/step - loss: 0.0100 - accuracy: 0.9963 - val_loss: 0.0984 - val_accuracy: 0.9766\n",
            "Epoch 17/20\n",
            "101/101 [==============================] - 254s 3s/step - loss: 0.0194 - accuracy: 0.9925 - val_loss: 0.0894 - val_accuracy: 0.9748\n",
            "Epoch 18/20\n",
            "101/101 [==============================] - 241s 2s/step - loss: 0.0200 - accuracy: 0.9910 - val_loss: 0.2731 - val_accuracy: 0.9495\n",
            "Epoch 19/20\n",
            "101/101 [==============================] - 235s 2s/step - loss: 0.0062 - accuracy: 0.9978 - val_loss: 0.2082 - val_accuracy: 0.9514\n",
            "Epoch 20/20\n",
            "101/101 [==============================] - 221s 2s/step - loss: 0.0016 - accuracy: 0.9997 - val_loss: 0.0476 - val_accuracy: 0.9925\n"
          ]
        },
        {
          "output_type": "execute_result",
          "data": {
            "text/plain": [
              "<keras.callbacks.History at 0x7f480a002d50>"
            ]
          },
          "metadata": {},
          "execution_count": 24
        }
      ],
      "source": [
        "model.fit(np.array(x_train),np.array(y_train), epochs=20,validation_data=(x_test, np.array(y_test)))"
      ]
    },
    {
      "cell_type": "code",
      "execution_count": null,
      "metadata": {
        "id": "7Ezf_8KMwyHj"
      },
      "outputs": [],
      "source": [
        "predicted = model.predict(np.array(X_test))"
      ]
    },
    {
      "cell_type": "code",
      "execution_count": null,
      "metadata": {
        "id": "zoZQh5qR4HtB"
      },
      "outputs": [],
      "source": [
        "predicted"
      ]
    },
    {
      "cell_type": "code",
      "execution_count": null,
      "metadata": {
        "id": "PBuojCR04Knw"
      },
      "outputs": [],
      "source": [
        "result = []\n",
        "for item in predicted:\n",
        "    result.append(np.argmax(item))"
      ]
    },
    {
      "cell_type": "code",
      "execution_count": null,
      "metadata": {
        "id": "sl-0cVrV4Kp5",
        "colab": {
          "base_uri": "https://localhost:8080/"
        },
        "outputId": "311e76d5-5ece-42e7-e202-8db4b2ff68f5"
      },
      "outputs": [
        {
          "output_type": "stream",
          "name": "stdout",
          "text": [
            "[0, 0, 1, 1, 1, 0, 0, 0, 0, 0, 0, 0, 1, 0, 1, 0, 0, 0, 0, 0, 1, 0, 0, 0, 0, 0, 1, 1, 0, 0, 0, 0, 1, 0, 0, 0, 0, 0, 0, 0, 0, 0, 0, 0, 1, 1, 0, 0, 0, 0, 0, 0, 0, 0, 0, 0, 1, 0, 0, 0, 0, 0, 0, 1, 0, 0, 1, 0, 0, 0, 0, 0, 0, 0, 1, 0, 0, 0, 0, 0, 0, 0, 0, 0, 0, 0, 0, 0, 1, 0, 0, 0, 0, 1, 0, 1, 0, 0, 0, 0, 1, 0, 0, 1, 0, 1, 0, 0, 0, 0, 1, 0, 0, 0, 0, 0, 0, 0, 0, 0, 0, 0, 1, 0, 1, 1, 0, 1, 0, 1, 0, 0, 0, 0, 0, 0, 0, 0, 0, 0, 0, 0, 1, 0, 0, 0, 0, 0, 0, 0, 0, 0, 0, 0, 1, 1, 0, 0, 0, 0, 0, 1, 0, 0, 0, 1, 0, 0, 0, 0, 1, 1, 0, 0, 0, 1, 0, 0, 0, 0, 0, 1, 0, 0, 0, 0, 0, 0, 0, 0, 0, 0, 1, 0, 0, 0, 0, 0, 0, 0, 0, 1, 0, 0, 0, 0, 1, 0, 0, 0, 0, 0, 0, 0, 0, 1, 0, 0, 0, 0, 0, 1, 0, 0, 0, 1, 0, 0, 0, 0, 0, 0, 0, 0, 0, 0, 0, 0, 0, 0, 0, 0, 1, 0, 0, 1, 0, 0, 0, 0, 0, 0, 1, 0, 0, 0, 0, 0, 0, 0, 0, 0, 0, 1, 1, 0, 0, 0, 0, 0, 1, 0, 0, 0, 0, 0, 0, 1, 0, 0, 0, 0, 1, 0, 0, 0, 0, 0, 1, 0, 0, 0, 0, 1, 1, 0, 0, 0, 0, 0, 0, 0, 0, 0, 1, 0, 0, 1, 0, 1, 0, 0, 0, 0, 0, 0, 1, 0, 0, 0, 0, 0, 0, 0, 0, 0, 0, 0, 1, 0, 1, 0, 1, 0, 0, 1, 0, 1, 0, 0, 0, 0, 0, 0, 0, 0, 1, 0, 0, 0, 1, 0, 0, 0, 1, 0, 0, 0, 0, 1, 0, 0, 0, 0, 1, 0, 0, 0, 0, 0, 0, 0, 0, 1, 0, 1, 0, 0, 0, 0, 0, 0, 1, 0, 0, 0, 1, 0, 0, 0, 1, 1, 0, 0, 1, 0, 0, 0, 0, 0, 0, 0, 0, 0, 0, 0, 0, 0, 0, 1, 0, 1, 0, 0, 0, 0, 1, 0, 0, 0, 0, 0, 1, 0, 0, 0, 0, 0, 0, 0, 1, 0, 0, 0, 0, 0, 0, 0, 0, 0, 0, 0, 0, 0, 0, 0, 0, 0, 0, 0, 0, 0, 0, 0, 0, 1, 0, 0, 0, 1, 0, 0, 0, 0, 0, 0, 0, 0, 1, 0, 0, 0, 0, 0, 0, 1, 0, 0, 1, 0, 0, 0, 1, 0, 0, 1, 0, 0, 0, 0, 0, 0, 0, 1, 1, 0, 0, 0, 0, 0, 0, 0, 0, 0, 0, 0, 0, 0, 0, 0, 0, 0, 0, 0, 0, 1, 0, 0, 0, 1, 0, 0, 0, 0, 0, 0, 1, 0, 0, 0, 0, 0, 0, 0, 0, 0, 0, 1, 0, 0, 0, 1, 0, 0, 0, 0, 0, 0, 0, 0, 1, 0, 1, 0, 0, 0, 0, 1, 0, 0, 0, 0, 0, 1, 0, 0, 0, 0, 0, 0, 0, 0, 0, 0, 0, 0, 0, 0, 0, 0, 0, 0, 1, 0, 0, 0, 0, 0, 1, 0, 1, 1, 1, 0, 0, 0, 0, 1, 0, 0, 0, 1, 0, 0, 0, 0, 0, 1, 0, 0, 1, 0, 1, 1, 0, 0, 0, 1, 0, 0, 0, 0, 0, 0, 0, 0, 0, 0, 0, 0, 0, 1, 0, 0, 1, 1, 0, 1, 0, 0, 1, 0, 0, 0, 0, 0, 0, 0, 0, 0, 0, 0, 1, 0, 0, 0, 0, 1, 0, 0, 0, 0, 0, 0, 0, 0, 0, 0, 0, 0, 0, 0, 0, 0, 0, 0, 0, 0, 1, 0, 0, 0, 0, 1, 0, 0, 1, 0, 1, 0, 1, 0, 0, 0, 0, 0, 0, 0, 0, 0, 1, 0, 0, 0, 0, 1, 0, 0, 1, 0, 0, 0, 1, 0, 0, 0, 0, 1, 0, 0, 0, 0, 0, 0, 0, 1, 1, 0, 0, 1, 0, 0, 0, 0, 0, 0, 0, 0, 0, 0, 0, 0, 0, 0, 0, 1, 1, 0, 0, 0, 0, 0, 0, 0, 0, 0, 0, 1, 0, 1, 0, 1, 0, 0, 0, 1, 0, 1, 0, 0, 0, 0, 0, 0, 1, 0, 0, 0, 0, 0, 1, 0, 0, 0, 0, 0, 0, 0, 1, 0, 0, 0, 0, 0, 0, 0, 0, 0, 0, 1, 0, 0, 0, 0, 0, 0, 0, 0, 1, 0, 1, 1, 0, 0, 0, 1, 0, 1, 0, 0, 1, 0, 0, 0, 0, 0, 0, 1, 0, 0, 0, 0, 0, 0, 0, 0, 0, 0, 0, 0, 0, 0, 1, 0, 0, 0, 0, 0, 0, 0, 0, 1, 0, 1, 0, 0, 0, 0, 0, 0, 1, 0, 0, 0, 1, 1, 1, 0, 0, 0, 0, 0, 1, 1, 0, 0, 0, 0, 1, 0, 0, 0, 1, 0, 0, 0, 1, 0, 0, 0, 0, 0, 1, 0, 0, 0, 0, 0, 0, 0, 1, 0, 0, 0, 0, 0, 0, 0, 1, 0, 0, 0, 0, 0, 0, 0, 0, 0, 0, 1, 1, 0, 0, 0, 0, 0, 0, 0, 0, 0, 1, 1, 0, 0, 0, 1, 0, 0, 0, 1, 1, 0, 0, 0, 0, 1, 0, 1, 0, 0, 0, 0, 0, 0, 0, 0, 1, 0, 0, 0, 0, 0, 0, 0, 0, 0, 0, 0, 0, 0, 0, 0, 0, 0, 0, 0, 1, 0, 1, 0, 0, 0, 0, 0, 0, 0, 0, 0, 0, 0, 0, 0, 0, 0, 0, 0, 0, 0, 0, 0, 0, 0, 0, 0, 1, 1, 0, 0, 1, 0, 0, 0, 0, 0, 0, 1, 0, 0, 1, 0, 0, 0, 0, 0, 0, 0, 0, 0, 0, 0, 0, 0, 0, 1, 0, 0, 0, 0, 0, 0, 0, 0, 0, 0, 0, 0, 0, 0, 1, 0, 0, 1, 0, 0, 0, 0, 0, 0, 0, 0, 0, 0, 0, 0, 0, 0, 1, 0, 1, 0]\n"
          ]
        }
      ],
      "source": [
        "print(result)"
      ]
    },
    {
      "cell_type": "code",
      "execution_count": null,
      "metadata": {
        "id": "prHIkO_94Ksg",
        "colab": {
          "base_uri": "https://localhost:8080/",
          "height": 279
        },
        "outputId": "d47f1d74-bc4b-4c22-bafa-74ae47510e73"
      },
      "outputs": [
        {
          "data": {
            "image/png": "[encoded data removed]",
            "text/plain": [
              "<Figure size 432x288 with 2 Axes>"
            ]
          },
          "metadata": {},
          "output_type": "display_data"
        }
      ],
      "source": [
        "from sklearn.metrics import ConfusionMatrixDisplay\n",
        "from sklearn.metrics import confusion_matrix\n",
        "import matplotlib.pyplot as plt\n",
        "cm = confusion_matrix(y_test,result)\n",
        "labels = [\"Normal\",\"Tuberculosis\"]\n",
        "disp = ConfusionMatrixDisplay(confusion_matrix=cm, display_labels=labels)\n",
        "disp.plot(cmap=plt.cm.Blues)\n",
        "plt.show()"
      ]
    }
  ],
  "metadata": {
    "accelerator": "TPU",
    "colab": {
      "background_execution": "on",
      "collapsed_sections": [],
      "machine_shape": "hm",
      "provenance": [],
      "authorship_tag": "ABX9TyPdXsp1xpdSn7/x4hQItRNK"
    },
    "gpuClass": "standard",
    "kernelspec": {
      "display_name": "Python 3",
      "name": "python3"
    },
    "language_info": {
      "name": "python"
    }
  },
  "nbformat": 4,
  "nbformat_minor": 0
}